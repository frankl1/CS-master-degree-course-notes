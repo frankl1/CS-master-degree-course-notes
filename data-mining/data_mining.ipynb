{
 "cells": [
  {
   "cell_type": "markdown",
   "metadata": {},
   "source": [
    "# Data Mining"
   ]
  },
  {
   "cell_type": "markdown",
   "metadata": {},
   "source": [
    "> Goal: To give an overview of the Machine Learning and Deep Learning fields."
   ]
  },
  {
   "cell_type": "markdown",
   "metadata": {},
   "source": [
    "Recommended readings:\n",
    "\n",
    "* <cite data-cite=\"granger2013\">Deep Learning, Ian Goodfellow and Yoshua Bengio and Aaron Courville, 2016</cite>\n",
    "* <cite data-cite=\"granger2013\">Data Mining: Concepts and Techniques, Han and Jiawei, 2005</cite>\n",
    "\n",
    "See also: \n",
    "\n",
    "* [KDnuggets.com](https://www.kdnuggets.com)\n",
    "* [SIGKDD](http://www.kdd.org)\n",
    "\n"
   ]
  },
  {
   "cell_type": "markdown",
   "metadata": {},
   "source": [
    "## TOC:\n",
    "* [Classification](#classification)\n",
    "* [Clustering](#second-bullet)\n",
    "* [Association Rule Discovery]()\n",
    "* [Sequential Pattern Discovery](#seq-pattern-discovery)"
   ]
  },
  {
   "cell_type": "markdown",
   "metadata": {},
   "source": []
  },
  {
   "cell_type": "markdown",
   "metadata": {},
   "source": [
    "## Classification <a class=\"anchor\" id=\"classification\"></a>  "
   ]
  },
  {
   "cell_type": "markdown",
   "metadata": {},
   "source": [
    "> Given a set of _records_ that contains _attributes_ and a _class_, find a model of the attributes that predicts the _class_. "
   ]
  },
  {
   "cell_type": "markdown",
   "metadata": {},
   "source": [
    "### Decision Trees"
   ]
  },
  {
   "cell_type": "markdown",
   "metadata": {},
   "source": [
    "### Instance Based Classifiers"
   ]
  },
  {
   "cell_type": "markdown",
   "metadata": {},
   "source": [
    "## Clustering "
   ]
  },
  {
   "cell_type": "markdown",
   "metadata": {},
   "source": [
    "## Association Rule Discovery"
   ]
  },
  {
   "cell_type": "markdown",
   "metadata": {},
   "source": [
    "## Sequential Pattern Discovery <a class=\"anchor\" id=\"seq-pattern-discovery\"></a>  "
   ]
  },
  {
   "cell_type": "code",
   "execution_count": null,
   "metadata": {},
   "outputs": [],
   "source": []
  }
 ],
 "metadata": {
  "kernelspec": {
   "display_name": "Python 3",
   "language": "python",
   "name": "python3"
  },
  "language_info": {
   "codemirror_mode": {
    "name": "ipython",
    "version": 3
   },
   "file_extension": ".py",
   "mimetype": "text/x-python",
   "name": "python",
   "nbconvert_exporter": "python",
   "pygments_lexer": "ipython3",
   "version": "3.6.1"
  }
 },
 "nbformat": 4,
 "nbformat_minor": 2
}
