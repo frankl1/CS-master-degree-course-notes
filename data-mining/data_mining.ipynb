{
 "cells": [
  {
   "cell_type": "markdown",
   "metadata": {},
   "source": [
    "# Data Mining"
   ]
  },
  {
   "cell_type": "markdown",
   "metadata": {},
   "source": [
    "> Goal: To give an overview of the Machine Learning and Deep Learning fields."
   ]
  },
  {
   "cell_type": "markdown",
   "metadata": {},
   "source": [
    "Recommended readings:\n",
    "\n",
    "* <cite data-cite=\"granger2013\">Deep Learning, Ian Goodfellow and Yoshua Bengio and Aaron Courville, 2016</cite>\n",
    "* <cite data-cite=\"granger2013\">Data Mining: Concepts and Techniques, Han and Jiawei, 2005</cite>\n",
    "\n",
    "See also: \n",
    "\n",
    "* [KDnuggets.com](https://www.kdnuggets.com)\n",
    "* [SIGKDD](http://www.kdd.org)\n",
    "\n"
   ]
  },
  {
   "cell_type": "markdown",
   "metadata": {},
   "source": [
    "## TOC:\n",
    "* [Classification](#classification)\n",
    "* [Clustering](#second-bullet)\n",
    "* [Association Rule Discovery]()\n",
    "* [Sequential Pattern Discovery](#seq-pattern-discovery)"
   ]
  },
  {
   "cell_type": "markdown",
   "metadata": {},
   "source": []
  },
  {
   "cell_type": "markdown",
   "metadata": {},
   "source": [
    "## Classification <a class=\"anchor\" id=\"classification\"></a>  "
   ]
  },
  {
   "cell_type": "markdown",
   "metadata": {},
   "source": [
    "> Given a set of _records_ that contains _attributes_ and a _class_, find a model of the attributes that predicts the _class_. "
   ]
  },
  {
   "cell_type": "markdown",
   "metadata": {},
   "source": [
    "### Decision Trees"
   ]
  },
  {
   "cell_type": "markdown",
   "metadata": {},
   "source": [
    "### Instance Based Classifiers"
   ]
  },
  {
   "cell_type": "markdown",
   "metadata": {},
   "source": [
    "## Clustering "
   ]
  },
  {
   "cell_type": "markdown",
   "metadata": {},
   "source": [
    "## Association Rule Discovery"
   ]
  },
  {
   "cell_type": "markdown",
   "metadata": {},
   "source": [
    "## Sequential Pattern Discovery <a class=\"anchor\" id=\"seq-pattern-discovery\"></a>  "
   ]
  },
  {
   "cell_type": "markdown",
   "metadata": {},
   "source": [
    "## Model Evaluation"
   ]
  },
  {
   "cell_type": "markdown",
   "metadata": {},
   "source": [
    "### Introduction"
   ]
  },
  {
   "cell_type": "markdown",
   "metadata": {},
   "source": [
    "Simplest method: *hold-out*; You split the dataset into 2 buckets, one for the training (usually 2/3) and one for the test (usually 1/3).\n",
    "\n",
    "> This solution is not a good one, especially if used only once because some data may not appear in the training (resp. test) set. That means that your model would never learn to recognize certain records. Imagine that your dataset consists in photos of cars and planes, your task is to classify new photos in one or the other category. Now imagine that you split your dataset and only have cars in the training set and planes in the test set. What do you think about the performances of your model? "
   ]
  },
  {
   "cell_type": "markdown",
   "metadata": {},
   "source": [
    "A variant of the previous method is called random subsampling. Here you repeat a hold-out several times. Like previously, it's not guaranteed that each record appears at least once in the trainig and test set, so maybe the model will not be able to recognize it well. "
   ]
  },
  {
   "cell_type": "markdown",
   "metadata": {},
   "source": [
    "### Cross-validation"
   ]
  },
  {
   "cell_type": "code",
   "execution_count": null,
   "metadata": {},
   "outputs": [],
   "source": [
    "#### k-fold"
   ]
  },
  {
   "cell_type": "code",
   "execution_count": null,
   "metadata": {},
   "outputs": [],
   "source": [
    "#### leave-one-out (LOO)"
   ]
  },
  {
   "cell_type": "markdown",
   "metadata": {},
   "source": [
    "### Choosing a metric "
   ]
  },
  {
   "cell_type": "code",
   "execution_count": null,
   "metadata": {},
   "outputs": [],
   "source": []
  },
  {
   "cell_type": "code",
   "execution_count": null,
   "metadata": {},
   "outputs": [],
   "source": []
  },
  {
   "cell_type": "code",
   "execution_count": null,
   "metadata": {},
   "outputs": [],
   "source": []
  }
 ],
 "metadata": {
  "kernelspec": {
   "display_name": "Python 3",
   "language": "python",
   "name": "python3"
  },
  "language_info": {
   "codemirror_mode": {
    "name": "ipython",
    "version": 3
   },
   "file_extension": ".py",
   "mimetype": "text/x-python",
   "name": "python",
   "nbconvert_exporter": "python",
   "pygments_lexer": "ipython3",
   "version": "3.6.1"
  }
 },
 "nbformat": 4,
 "nbformat_minor": 2
}
